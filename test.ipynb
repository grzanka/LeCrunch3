{
 "cells": [
  {
   "cell_type": "code",
   "execution_count": 4,
   "metadata": {},
   "outputs": [],
   "source": [
    "import h5py\n",
    "from pathlib import Path"
   ]
  },
  {
   "cell_type": "code",
   "execution_count": 6,
   "metadata": {},
   "outputs": [
    {
     "data": {
      "text/plain": [
       "[PosixPath('intensityRamp_10nA_1__15_12_2022__16_12_15.h5')]"
      ]
     },
     "execution_count": 6,
     "metadata": {},
     "output_type": "execute_result"
    }
   ],
   "source": [
    "h5files = list(Path('.').glob('*.h5'))\n",
    "h5files"
   ]
  },
  {
   "cell_type": "code",
   "execution_count": 8,
   "metadata": {},
   "outputs": [
    {
     "data": {
      "text/plain": [
       "PosixPath('intensityRamp_10nA_1__15_12_2022__16_12_15.h5')"
      ]
     },
     "execution_count": 8,
     "metadata": {},
     "output_type": "execute_result"
    }
   ],
   "source": [
    "h5file = h5files[0]\n",
    "h5file"
   ]
  },
  {
   "cell_type": "code",
   "execution_count": 16,
   "metadata": {},
   "outputs": [],
   "source": [
    "with h5py.File(h5file, 'r') as f, open('metadata.txt', 'w') as f2:\n",
    "    # print metadata\n",
    "    for key in f.attrs.keys():\n",
    "        f2.write(f'{key}: {f.attrs[key]}\\n')\n",
    "    # print datasets\n",
    "    for key in f.keys():\n",
    "        if f[key].name.endswith('samples'):\n",
    "            with open(f'{key}.txt', 'w') as f3:\n",
    "                # print attributes\n",
    "                for attr in f[key].attrs.keys():\n",
    "                    f3.write(f'{attr}: {f[key].attrs[attr]}\\n')\n"
   ]
  },
  {
   "cell_type": "code",
   "execution_count": null,
   "metadata": {},
   "outputs": [],
   "source": []
  }
 ],
 "metadata": {
  "kernelspec": {
   "display_name": ".venv",
   "language": "python",
   "name": "python3"
  },
  "language_info": {
   "codemirror_mode": {
    "name": "ipython",
    "version": 3
   },
   "file_extension": ".py",
   "mimetype": "text/x-python",
   "name": "python",
   "nbconvert_exporter": "python",
   "pygments_lexer": "ipython3",
   "version": "3.11.6"
  },
  "orig_nbformat": 4
 },
 "nbformat": 4,
 "nbformat_minor": 2
}
